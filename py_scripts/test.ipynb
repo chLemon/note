{
 "cells": [
  {
   "cell_type": "code",
   "execution_count": null,
   "id": "287b6c00",
   "metadata": {},
   "outputs": [],
   "source": [
    "\n"
   ]
  },
  {
   "cell_type": "code",
   "execution_count": 2,
   "id": "96130aaa",
   "metadata": {},
   "outputs": [],
   "source": [
    "# 校验图片是不是都在md里被引用了\n",
    "import re\n",
    "from pathlib import Path"
   ]
  },
  {
   "cell_type": "code",
   "execution_count": 4,
   "id": "8c6f292f",
   "metadata": {},
   "outputs": [
    {
     "data": {
      "text/plain": [
       "PosixPath('/Users/chen/Documents/chen/note/Note')"
      ]
     },
     "execution_count": 4,
     "metadata": {},
     "output_type": "execute_result"
    }
   ],
   "source": [
    "git_path = Path().cwd().parent / \"Note\"\n",
    "git_path"
   ]
  },
  {
   "cell_type": "code",
   "execution_count": 8,
   "id": "6cc1b65c",
   "metadata": {},
   "outputs": [],
   "source": [
    "sub_paths = [path for path in git_path.iterdir() if path.is_dir()]\n",
    "single_note_path = sub_paths[0]"
   ]
  },
  {
   "cell_type": "code",
   "execution_count": 11,
   "id": "9a0f96fb",
   "metadata": {},
   "outputs": [],
   "source": [
    "# 当前目录下的所有文档文件\n",
    "md_files = [file_path for file_path in single_note_path.iterdir() if file_path.name.endswith(\".md\")]\n",
    "# 当前目录下的所有图片文件\n",
    "pic_files = get_all_non_md_files(single_note_path / \"images\")\n"
   ]
  },
  {
   "cell_type": "code",
   "execution_count": 10,
   "id": "cbebdc22",
   "metadata": {},
   "outputs": [],
   "source": [
    "def get_all_non_md_files(folder: Path) -> set:\n",
    "    \"\"\"\n",
    "    获取指定文件夹下所有非md文件\n",
    "    \"\"\"\n",
    "    if not folder.exists():\n",
    "        return set()\n",
    "    return {file_path.absolute() for file_path in folder.iterdir() if not file_path.name.endswith(\".md\")}"
   ]
  },
  {
   "cell_type": "code",
   "execution_count": 13,
   "id": "d845aa1f",
   "metadata": {},
   "outputs": [
    {
     "data": {
      "text/plain": [
       "{PosixPath('/Users/chen/Documents/chen/note/Note/计算机-IDEA/images/debug_alphabetically.png'),\n",
       " PosixPath('/Users/chen/Documents/chen/note/Note/计算机-IDEA/images/lombok_refactor.png'),\n",
       " PosixPath('/Users/chen/Documents/chen/note/Note/计算机-IDEA/images/应用程序.png'),\n",
       " PosixPath('/Users/chen/Documents/chen/note/Note/计算机-IDEA/images/需要注释的内容.png')}"
      ]
     },
     "execution_count": 13,
     "metadata": {},
     "output_type": "execute_result"
    }
   ],
   "source": [
    "pic_files"
   ]
  },
  {
   "cell_type": "code",
   "execution_count": 14,
   "id": "14eba231",
   "metadata": {},
   "outputs": [],
   "source": [
    "md_file_path = md_files[0]"
   ]
  },
  {
   "cell_type": "code",
   "execution_count": 15,
   "id": "69faeed3",
   "metadata": {},
   "outputs": [],
   "source": [
    "with open(md_file_path, \"r\", encoding=\"utf-8\") as file:\n",
    "    md_content = file.read()\n",
    "pattern = r\"\"\"\\!\\[.*\\]\\((.+)\\)\"\"\"\n",
    "matches = re.findall(pattern, md_content)"
   ]
  },
  {
   "cell_type": "code",
   "execution_count": 17,
   "id": "c7d17825",
   "metadata": {},
   "outputs": [
    {
     "data": {
      "text/plain": [
       "'images/lombok_refactor.png'"
      ]
     },
     "execution_count": 17,
     "metadata": {},
     "output_type": "execute_result"
    }
   ],
   "source": [
    "url = matches[0]\n",
    "url "
   ]
  },
  {
   "cell_type": "code",
   "execution_count": 19,
   "id": "00d6d094",
   "metadata": {},
   "outputs": [
    {
     "data": {
      "text/plain": [
       "PosixPath('/Users/chen/Documents/chen/note/Note/计算机-IDEA/images/lombok_refactor.png')"
      ]
     },
     "execution_count": 19,
     "metadata": {},
     "output_type": "execute_result"
    }
   ],
   "source": [
    "md_file_path.parent / Path(url)"
   ]
  },
  {
   "cell_type": "code",
   "execution_count": null,
   "id": "17b2c174",
   "metadata": {},
   "outputs": [],
   "source": []
  },
  {
   "cell_type": "code",
   "execution_count": null,
   "id": "9b06489b",
   "metadata": {},
   "outputs": [],
   "source": [
    "\n",
    "return {Path(url).absolute() for url in matches}\n"
   ]
  },
  {
   "cell_type": "code",
   "execution_count": null,
   "id": "fda2d882",
   "metadata": {},
   "outputs": [],
   "source": []
  },
  {
   "cell_type": "code",
   "execution_count": null,
   "id": "d80fa2a3",
   "metadata": {},
   "outputs": [
    {
     "data": {
      "text/plain": [
       "False"
      ]
     },
     "execution_count": 12,
     "metadata": {},
     "output_type": "execute_result"
    }
   ],
   "source": [
    "# 判断是否都被使用了\n",
    "pics_in_mds = set()\n",
    "for md in md_files:\n",
    "    pics_in_mds.update(collect_pics(md))\n",
    "retains = pic_files - pics_in_mds\n",
    "for retain in retains:\n",
    "    print(str(retain) + \" 没有被使用\")"
   ]
  },
  {
   "cell_type": "code",
   "execution_count": null,
   "id": "f8ed7015",
   "metadata": {},
   "outputs": [],
   "source": []
  }
 ],
 "metadata": {
  "kernelspec": {
   "display_name": "Python 3",
   "language": "python",
   "name": "python3"
  },
  "language_info": {
   "codemirror_mode": {
    "name": "ipython",
    "version": 3
   },
   "file_extension": ".py",
   "mimetype": "text/x-python",
   "name": "python",
   "nbconvert_exporter": "python",
   "pygments_lexer": "ipython3",
   "version": "3.9.6"
  }
 },
 "nbformat": 4,
 "nbformat_minor": 5
}
