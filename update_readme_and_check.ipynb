{
 "cells": [
  {
   "cell_type": "code",
   "execution_count": 1,
   "id": "b011cac0",
   "metadata": {},
   "outputs": [
    {
     "name": "stdout",
     "output_type": "stream",
     "text": [
      "==========      开始更新 README 文件       ========== \n",
      "\n",
      "Journal 的 README 已更新完毕\n",
      "Note 的 README 已更新完毕\n",
      "Secret_note 的 README 已更新完毕\n",
      "\n",
      "========== README 文件更新完成，开始分类校验 ==========\n",
      "\n",
      "全部都已分类\n",
      "\n",
      "==========  分类校验完成，开始图片有效性校验  ==========\n",
      "\n",
      "\n",
      "==========      图片有效性校验完成          ==========\n",
      "\n"
     ]
    }
   ],
   "source": [
    "from py_scripts import (\n",
    "    collect_note_names,\n",
    "    check_every_note_is_classified,\n",
    "    check_every_pic_is_used,\n",
    ")\n",
    "from pathlib import Path\n",
    "\n",
    "if __name__ == \"__main__\":\n",
    "    note_git_path = Path.cwd()\n",
    "\n",
    "    print(\"==========      开始更新 README 文件       ========== \\n\")\n",
    "    collect_note_names(note_git_path)\n",
    "    print(\"\\n========== README 文件更新完成，开始分类校验 ==========\\n\")\n",
    "    check_every_note_is_classified(note_git_path)\n",
    "    print(\"\\n==========  分类校验完成，开始图片有效性校验  ==========\\n\")\n",
    "    check_every_pic_is_used(note_git_path)\n",
    "    print(\"\\n==========      图片有效性校验完成          ==========\\n\")"
   ]
  },
  {
   "cell_type": "code",
   "execution_count": null,
   "id": "63ec70a9",
   "metadata": {},
   "outputs": [],
   "source": []
  }
 ],
 "metadata": {
  "kernelspec": {
   "display_name": "base",
   "language": "python",
   "name": "python3"
  },
  "language_info": {
   "codemirror_mode": {
    "name": "ipython",
    "version": 3
   },
   "file_extension": ".py",
   "mimetype": "text/x-python",
   "name": "python",
   "nbconvert_exporter": "python",
   "pygments_lexer": "ipython3",
   "version": "3.12.7"
  }
 },
 "nbformat": 4,
 "nbformat_minor": 5
}
