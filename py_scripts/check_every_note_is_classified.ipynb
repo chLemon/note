{
 "cells": [
  {
   "cell_type": "code",
   "execution_count": null,
   "id": "19cc5f20",
   "metadata": {},
   "outputs": [],
   "source": [
    "from pathlib import Path\n",
    "\n",
    "\n",
    "def check_note_read_me_is_classified(git_path: Path):\n",
    "    \"\"\"\n",
    "    检查所有的文件都进行了分类\n",
    "\n",
    "    读取 README 里 列表 中的文件名，如果文件名没有 - ，则说明没有进行分类\n",
    "    \"\"\"\n",
    "    # 直接通过 README 判断即可\n",
    "    read_me_path = git_path / \"README.md\"\n",
    "    with open(read_me_path, \"r\", encoding=\"utf-8\") as file:\n",
    "        lines = [line.strip() for line in file]\n",
    "    splitter = \"# 列表\"\n",
    "    before_splitter = True\n",
    "    not_classified = []\n",
    "    for l in lines:\n",
    "        if splitter in l:\n",
    "            before_splitter = False\n",
    "            continue\n",
    "        if before_splitter:\n",
    "            continue\n",
    "        if not l.startswith(\"+\"):\n",
    "            continue\n",
    "        # 有效的笔记\n",
    "        if \"-\" not in l:\n",
    "            not_classified.append(l)\n",
    "    return not_classified\n",
    "\n",
    "\n",
    "def check_every_note_is_classified(git_path: Path):\n",
    "    not_classified = check_note_read_me_is_classified(git_path)\n",
    "    if not_classified:\n",
    "        print(\"以下文件没有被分类\\n\" + \"\\n\".join(not_classified))\n",
    "    else:\n",
    "        print(\"全部都已分类\")\n",
    "\n",
    "\n",
    "if __name__ == \"__main__\":\n",
    "    check_every_note_is_classified(Path().cwd().parent)"
   ]
  }
 ],
 "metadata": {
  "language_info": {
   "name": "python"
  }
 },
 "nbformat": 4,
 "nbformat_minor": 5
}
