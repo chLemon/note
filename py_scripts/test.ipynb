{
 "cells": [
  {
   "cell_type": "code",
   "execution_count": 5,
   "id": "7ea5555e",
   "metadata": {},
   "outputs": [],
   "source": [
    "import os \n",
    "import re\n",
    "from pathlib import Path\n"
   ]
  },
  {
   "cell_type": "code",
   "execution_count": null,
   "id": "1d8f837e",
   "metadata": {},
   "outputs": [],
   "source": [
    "def is_note_directory(path):\n",
    "    \"\"\"\n",
    "    检查当前是否为笔记文件夹\n",
    "\n",
    "    判断条件为：不含有有 markdown 文件的子文件夹\n",
    "    \"\"\"\n",
    "   return not any("
   ]
  },
  {
   "cell_type": "code",
   "execution_count": null,
   "id": "b6df6795",
   "metadata": {
    "vscode": {
     "languageId": "ini"
    }
   },
   "outputs": [],
   "source": [
    "def is_note_directory(path: Path) -> bool:\n",
    "    \"\"\"\n",
    "    检查当前是否为笔记文件夹\n",
    "\n",
    "    判断条件为：不含有有 markdown 文件的子文件夹\n",
    "    \"\"\"\n",
    "    # 判断当前文件夹下是否有子文件夹\n",
    "    subfolders = [f for f in path.iterdir() if f.is_dir()]\n",
    "    # 检查每个子文件夹是否含有.md文件\n",
    "    for sub in subfolders:\n",
    "        if any(f.suffix == '.md' for f in sub.iterdir() if f.is_file()):\n",
    "            return False\n",
    "    return True"
   ]
  },
  {
   "cell_type": "code",
   "execution_count": null,
   "id": "0e2e8e9f",
   "metadata": {},
   "outputs": [],
   "source": []
  },
  {
   "cell_type": "code",
   "execution_count": null,
   "id": "7454ffae",
   "metadata": {
    "vscode": {
     "languageId": "ini"
    }
   },
   "outputs": [],
   "source": [
    "def is_ok(folder: Path) -> bool:\n",
    "    # 判断当前文件夹下是否有.md文件\n",
    "    has_md = any(f.suffix == '.md' for f in folder.iterdir() if f.is_file())\n",
    "    # 判断是否有子文件夹\n",
    "    subfolders = [f for f in folder.iterdir() if f.is_dir()]\n",
    "    # 如果没有子文件夹，直接返回是否有.md文件\n",
    "    if not subfolders:\n",
    "        return has_md\n",
    "    # 如果有子文件夹，递归判断每个子文件夹\n",
    "    for sub in subfolders:\n",
    "        if is_ok(sub):\n",
    "            # 如果有子文件夹ok，则当前文件夹不ok\n",
    "            return False\n",
    "    # 如果所有子文件夹都不ok，则当前文件夹ok取决于自己是否有.md文件\n",
    "    return has_md\n",
    "\n",
    "# 递归判断目录 a 下的每个笔记文件夹是否 ok\n",
    "def check_all_folders(a: Path):\n",
    "    for folder in a.iterdir():\n",
    "        if folder.is_dir():\n",
    "            print(f\"{folder}: {'ok' if is_ok(folder) else 'not ok'}\")"
   ]
  },
  {
   "cell_type": "code",
   "execution_count": null,
   "id": "3eece32b",
   "metadata": {},
   "outputs": [],
   "source": []
  },
  {
   "cell_type": "code",
   "execution_count": null,
   "id": "04cfbe6f",
   "metadata": {},
   "outputs": [],
   "source": []
  }
 ],
 "metadata": {
  "kernelspec": {
   "display_name": "Python 3",
   "language": "python",
   "name": "python3"
  },
  "language_info": {
   "codemirror_mode": {
    "name": "ipython",
    "version": 3
   },
   "file_extension": ".py",
   "mimetype": "text/x-python",
   "name": "python",
   "nbconvert_exporter": "python",
   "pygments_lexer": "ipython3",
   "version": "3.9.6"
  }
 },
 "nbformat": 4,
 "nbformat_minor": 5
}
