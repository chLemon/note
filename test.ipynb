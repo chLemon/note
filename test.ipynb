{
 "cells": [
  {
   "cell_type": "code",
   "execution_count": 61,
   "metadata": {},
   "outputs": [],
   "source": [
    "# 直接通过 README 判断即可\n",
    "with open('./README.md', 'r', encoding='utf-8') as file:\n",
    "    lines = [line.strip() for line in file]\n",
    "splitter = '------------------------------------------------------'\n",
    "before_splitter = False\n",
    "not_classified = []"
   ]
  },
  {
   "cell_type": "code",
   "execution_count": 62,
   "metadata": {},
   "outputs": [
    {
     "data": {
      "text/plain": [
       "['一些可公开的笔记',\n",
       " '',\n",
       " '# 目录结构说明',\n",
       " '',\n",
       " '为了和坚果云配合使用，同时避免坚果云同步`.git`文件夹。',\n",
       " '',\n",
       " '```',\n",
       " '坚果云',\n",
       " '|--Note',\n",
       " '|--Note(坚果云同步)',\n",
       " '|--笔记文件.md',\n",
       " '|--.git',\n",
       " '|--README.md',\n",
       " '```',\n",
       " '',\n",
       " '------------------------------------------------------',\n",
       " '',\n",
       " '# Doing',\n",
       " '',\n",
       " '+ Git',\n",
       " '+ Google代码风格',\n",
       " '+ vocabulary',\n",
       " '+ 冥想',\n",
       " '+ 单元测试&Mockito',\n",
       " '+ 双精度浮点数double',\n",
       " '+ 反射和map',\n",
       " '+ 字体',\n",
       " '',\n",
       " '# 列表',\n",
       " '',\n",
       " '+ 5Why分析法',\n",
       " '+ Git Pro[need merge]',\n",
       " '+ IDEA',\n",
       " '+ Jupyter Notebook',\n",
       " '+ mac shell',\n",
       " '+ macOS',\n",
       " '+ mermaid',\n",
       " '+ Mockito文档总结',\n",
       " '+ VSCode',\n",
       " '+ Windows Terminal',\n",
       " '+ 对标',\n",
       " '+ 浏览器环境打标',\n",
       " '+ 职业规划',\n",
       " '']"
      ]
     },
     "execution_count": 62,
     "metadata": {},
     "output_type": "execute_result"
    }
   ],
   "source": [
    "lines"
   ]
  },
  {
   "cell_type": "code",
   "execution_count": 74,
   "metadata": {},
   "outputs": [
    {
     "data": {
      "text/plain": [
       "'------------------------------------------------------'"
      ]
     },
     "execution_count": 74,
     "metadata": {},
     "output_type": "execute_result"
    }
   ],
   "source": [
    "lines[15]"
   ]
  },
  {
   "cell_type": "code",
   "execution_count": 75,
   "metadata": {},
   "outputs": [
    {
     "data": {
      "text/plain": [
       "True"
      ]
     },
     "execution_count": 75,
     "metadata": {},
     "output_type": "execute_result"
    }
   ],
   "source": [
    "splitter in lines[15]\n"
   ]
  },
  {
   "cell_type": "code",
   "execution_count": 76,
   "metadata": {},
   "outputs": [
    {
     "data": {
      "text/plain": [
       "[]"
      ]
     },
     "execution_count": 76,
     "metadata": {},
     "output_type": "execute_result"
    }
   ],
   "source": [
    "before_splitter = True\n",
    "for l in lines:\n",
    "    if before_splitter:\n",
    "        continue\n",
    "    if splitter in l:\n",
    "        print(\"dasf\")\n",
    "        before_splitter = False\n",
    "        continue\n",
    "    if not l.startswith('+'):\n",
    "        continue\n",
    "    # 有效的笔记\n",
    "    print(l)\n",
    "    if '-' not in l:\n",
    "        not_classified.append(l)\n",
    "not_classified"
   ]
  },
  {
   "cell_type": "code",
   "execution_count": null,
   "metadata": {},
   "outputs": [
    {
     "data": {
      "text/plain": [
       "[]"
      ]
     },
     "execution_count": 69,
     "metadata": {},
     "output_type": "execute_result"
    }
   ],
   "source": []
  },
  {
   "cell_type": "code",
   "execution_count": null,
   "metadata": {},
   "outputs": [],
   "source": []
  }
 ],
 "metadata": {
  "language_info": {
   "name": "python"
  }
 },
 "nbformat": 4,
 "nbformat_minor": 2
}
