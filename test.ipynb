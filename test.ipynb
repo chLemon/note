{
 "cells": [
  {
   "cell_type": "code",
   "execution_count": 3,
   "metadata": {},
   "outputs": [],
   "source": [
    "s = r\"\"\" `notch-rect`    | 表示卡片             | `card`, `notched-rectangle`                                      |\n",
    " `hourglass`     | 表示合并操作         | `collate`, `hourglass`                                           |\n",
    " `bolt`          | 通信链接             | `com-link`, `lightning-bolt`                                     |\n",
    " `brace`         | 添加注释             | `brace-l`, `comment`                                             |\n",
    " `brace-r`       | 添加注释             |                                                                  |\n",
    " `braces`        | 添加注释             |                                                                  |\n",
    " `lean-r`        | 表示输入或输出       | `in-out`, `lean-right`                                           |\n",
    " `lean-l`        | 表示输入或输出       | `lean-left`, `out-in`                                            |\n",
    " `cyl`           | 数据库存储           | `cylinder`, `database`, `db`                                     |\n",
    " `diam`          | 决策步骤             | `decision`, `diamond`, `question`                                |\n",
    " `delay`         | 表示延迟             | `half-rounded-rectangle`                                         |\n",
    " `h-cyl`         | 直接访问存储         | `das`, `horizontal-cylinder`                                     |\n",
    " `lin-cyl`       | 磁盘存储             | `disk`, `lined-cylinder`                                         |\n",
    " `curv-trap`     | 表示显示             | `curved-trapezoid`, `display`                                    |\n",
    " `div-rect`      | 分割流程形状         | `div-proc`, `divided-process`, `divided-rectangle`               |\n",
    " `doc`           | 表示一个文档         | `doc`, `document`                                                |\n",
    " `rounded`       | 表示一个事件         | `event`                                                          |\n",
    " `tri`           | 提取过程             | `extract`, `triangle`                                            |\n",
    " `fork`          | 在流程图中分叉或合并 | `join`                                                           |\n",
    " `win-pane`      | 内部存储             | `internal-storage`, `window-pane`                                |\n",
    " `f-circ`        | 连接点               | `filled-circle`, `junction`                                      |\n",
    " `lin-doc`       | 带格线的文档         | `lined-document`                                                 |\n",
    " `lin-rect`      | 带线的流程形状       | `lin-proc`, `lined-process`, `lined-rectangle`, `shaded-process` |\n",
    " `notch-pent`    | 循环限制步骤         | `loop-limit`, `notched-pentagon`                                 |\n",
    " `flip-tri`      | 手动文件操作         | `flipped-triangle`, `manual-file`                                |\n",
    " `sl-rect`       | 手动输入步骤         | `manual-input`, `sloped-rectangle`                               |\n",
    " `trap-t`        | 表示手动任务         | `inv-trapezoid`, `manual`, `trapezoid-top`                       |\n",
    " `docs`          | 多个文档             | `documents`, `st-doc`, `stacked-document`                        |\n",
    " `st-rect`       | 多个进程             | `processes`, `procs`, `stacked-rectangle`                        |\n",
    " `odd`           | 奇形                 |                                                                  |\n",
    " `flag`          | 纸带                 | `paper-tape`                                                     |\n",
    " `hex`           | 准备或条件步骤       | `hexagon`, `prepare`                                             |\n",
    " `trap-b`        | 优先操作             | `priority`, `trapezoid`, `trapezoid-bottom`                      |\n",
    " `rect`          | 标准流程形状         | `proc`, `process`, `rectangle`                                   |\n",
    " `circle`        | 起点                 | `circ`                                                           |\n",
    " `sm-circ`       | 小起点               | `small-circle`, `start`                                          |\n",
    " `dbl-circ`      | 表示停止点           | `double-circle`                                                  |\n",
    " `fr-circ`       | 停止点               | `framed-circle`, `stop`                                          |\n",
    " `bow-rect`      | 存储数据             | `bow-tie-rectangle`, `stored-data`                               |\n",
    " `fr-rect`       | 子流程               | `framed-rectangle`, `subproc`, `subprocess`, `subroutine`        |\n",
    " `cross-circ`    | 摘要                 | `crossed-circle`, `summary`                                      |\n",
    " `tag-doc`       | 标记文档             | `tag-doc`, `tagged-document`                                     |\n",
    " `tag-rect`      | 标记流程             | `tag-proc`, `tagged-process`, `tagged-rectangle`                 |\n",
    " `stadium`       | 终端点               | `pill`, `terminal`                                               |\n",
    " `text`          | 文本块               |                                                                  |\"\"\""
   ]
  },
  {
   "cell_type": "code",
   "execution_count": 6,
   "metadata": {},
   "outputs": [
    {
     "data": {
      "text/plain": [
       "[' `notch-rect`    ',\n",
       " ' 表示卡片             ',\n",
       " ' `card`, `notched-rectangle`                                      ',\n",
       " '']"
      ]
     },
     "execution_count": 6,
     "metadata": {},
     "output_type": "execute_result"
    }
   ],
   "source": [
    "s.split(\"\\n\")[0].split('|')"
   ]
  },
  {
   "cell_type": "code",
   "execution_count": 26,
   "metadata": {},
   "outputs": [],
   "source": [
    "lines = []\n",
    "\n",
    "for line in s.split('\\n'):\n",
    "    ll = line.split('|')\n",
    "    dd = {}\n",
    "    dd['ss'] = []\n",
    "    dd['ss'].append(ll[0].strip().replace('`', ''))\n",
    "    dd['desc'] = ll[1].strip()\n",
    "    if ll[2].strip():\n",
    "        for each in ll[2].strip().split(','):\n",
    "            dd[\"ss\"].append(each.strip().replace(\"`\", \"\"))\n",
    "    lines.append(dd)"
   ]
  },
  {
   "cell_type": "markdown",
   "metadata": {},
   "source": [
    "    A@{ shape: manual-file, label: \"File Handling\"}\n",
    "    "
   ]
  },
  {
   "cell_type": "code",
   "execution_count": 28,
   "metadata": {},
   "outputs": [
    {
     "name": "stdout",
     "output_type": "stream",
     "text": [
      "notch-rect card notched-rectangle\n",
      "hourglass collate hourglass\n",
      "bolt com-link lightning-bolt\n",
      "brace brace-l comment\n",
      "brace-r\n",
      "braces\n",
      "lean-r in-out lean-right\n",
      "lean-l lean-left out-in\n",
      "cyl cylinder database db\n",
      "diam decision diamond question\n",
      "delay half-rounded-rectangle\n",
      "h-cyl das horizontal-cylinder\n",
      "lin-cyl disk lined-cylinder\n",
      "curv-trap curved-trapezoid display\n",
      "div-rect div-proc divided-process divided-rectangle\n",
      "doc doc document\n",
      "rounded event\n",
      "tri extract triangle\n",
      "fork join\n",
      "win-pane internal-storage window-pane\n",
      "f-circ filled-circle junction\n",
      "lin-doc lined-document\n",
      "lin-rect lin-proc lined-process lined-rectangle shaded-process\n",
      "notch-pent loop-limit notched-pentagon\n",
      "flip-tri flipped-triangle manual-file\n",
      "sl-rect manual-input sloped-rectangle\n",
      "trap-t inv-trapezoid manual trapezoid-top\n",
      "docs documents st-doc stacked-document\n",
      "st-rect processes procs stacked-rectangle\n",
      "odd\n",
      "flag paper-tape\n",
      "hex hexagon prepare\n",
      "trap-b priority trapezoid trapezoid-bottom\n",
      "rect proc process rectangle\n",
      "circle circ\n",
      "sm-circ small-circle start\n",
      "dbl-circ double-circle\n",
      "fr-circ framed-circle stop\n",
      "bow-rect bow-tie-rectangle stored-data\n",
      "fr-rect framed-rectangle subproc subprocess subroutine\n",
      "cross-circ crossed-circle summary\n",
      "tag-doc tag-doc tagged-document\n",
      "tag-rect tag-proc tagged-process tagged-rectangle\n",
      "stadium pill terminal\n",
      "text\n"
     ]
    }
   ],
   "source": [
    "for i in range(len(lines)):\n",
    "    print(' '.join(lines[i]['ss']))"
   ]
  },
  {
   "cell_type": "code",
   "execution_count": null,
   "metadata": {},
   "outputs": [],
   "source": []
  }
 ],
 "metadata": {
  "kernelspec": {
   "display_name": "base",
   "language": "python",
   "name": "python3"
  },
  "language_info": {
   "codemirror_mode": {
    "name": "ipython",
    "version": 3
   },
   "file_extension": ".py",
   "mimetype": "text/x-python",
   "name": "python",
   "nbconvert_exporter": "python",
   "pygments_lexer": "ipython3",
   "version": "3.12.7"
  }
 },
 "nbformat": 4,
 "nbformat_minor": 2
}
